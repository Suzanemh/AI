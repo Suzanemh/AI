{
 "cells": [
  {
   "cell_type": "code",
   "execution_count": 1,
   "metadata": {},
   "outputs": [],
   "source": [
    "#Import modules\n",
    "\n",
    "%matplotlib inline\n",
    "import pandas as pd\n",
    "import numpy as np\n",
    "from scipy import stats\n",
    "import matplotlib as plt"
   ]
  },
  {
   "cell_type": "code",
   "execution_count": 2,
   "metadata": {},
   "outputs": [
    {
     "name": "stdout",
     "output_type": "stream",
     "text": [
      "<class 'pandas.core.frame.DataFrame'>\n",
      "RangeIndex: 50 entries, 0 to 49\n",
      "Data columns (total 5 columns):\n",
      " #   Column      Non-Null Count  Dtype  \n",
      "---  ------      --------------  -----  \n",
      " 0   StudentID   50 non-null     int64  \n",
      " 1   Age         50 non-null     object \n",
      " 2   email       50 non-null     object \n",
      " 3   hrsStudy    50 non-null     object \n",
      " 4   FinalGrade  49 non-null     float64\n",
      "dtypes: float64(1), int64(1), object(3)\n",
      "memory usage: 2.1+ KB\n",
      "    StudentID  Age              email hrsStudy  FinalGrade\n",
      "0       47412   20  s47412@oslomet.no        5        46.0\n",
      "1       15077   22  s15077@oslomet.no        0        65.0\n",
      "2       15467   27  s15467@oslomet.no        1        26.0\n",
      "3       17907   21  s17907@oslomet.no        6        68.0\n",
      "4       13352  333  s13352@oslomet.no        4        34.0\n",
      "5       88403   29  s88403@oslomet.no       11        62.0\n",
      "6       56387   32  s56387@oslomet.no        9        29.0\n",
      "7       95648   23  s95648@oslomet.no        3        38.0\n",
      "8       63176   20  s63176@oslomet.no        0        98.0\n",
      "9       15406   31  s15406@oslomet.no        2        68.0\n",
      "10      41908   24  s41908@oslomet.no        0        62.0\n",
      "11      35600   30  s35600@oslomet.no       11        70.0\n",
      "12      16171   25  s16171@oslomet.no       10        81.0\n",
      "13      55586   24  s55586@oslomet.no        7        31.0\n",
      "14      71505   23  s71505@oslomet.no        1        49.0\n",
      "15      31235   33  s31235@oslomet.no        1        72.0\n",
      "16      80811   21  s80811@oslomet.no        6        51.0\n",
      "17      33041   21  s33041@oslomet.no        2        97.0\n",
      "18      99823   23  s99823@oslomet.no       10        56.0\n",
      "19      41092   33  s41092@oslomet.no       10        42.0\n",
      "20      15976   32  s15976@oslomet.no        9        78.0\n",
      "21      91520   33  s91520@oslomet.no        9        60.0\n",
      "22      11758   33  s11758@oslomet.no        6        54.0\n",
      "23      67086   22  s67086@oslomet.no       10        51.0\n",
      "24      84127   20  s84127@oslomet.no        5        92.0\n",
      "25      59109   32  s59109@oslomet.no        7        97.0\n",
      "26      10736    2  s10736@oslomet.no       10         NaN\n",
      "27      71581   25  s71581@oslomet.no        9        26.0\n",
      "28      29254   22  s29254@oslomet.no       10        88.0\n",
      "29      20161   22  s20161@oslomet.no       11        90.0\n",
      "30      21523   31  s21523@oslomet.no                 51.0\n",
      "31      66815   21  s66815@oslomet.no        8        35.0\n",
      "32      26914   31  s26914@oslomet.no        9        93.0\n",
      "33      58153  220  s58153@oslomet.no       10        35.0\n",
      "34      58387   20  s58387@oslomet.no        9       673.0\n",
      "35      44561   28  s44561@oslomet.no       10        78.0\n",
      "36      84163   25  s84163@oslomet.no        7        71.0\n",
      "37      26584   27  s26584@oslomet.no       10        31.0\n",
      "38      74289   31  s74289@oslomet.no        6        45.0\n",
      "39      30158   21  s30158@oslomet.no        3        37.0\n",
      "40      25452   24  s25452@oslomet.no       10        41.0\n",
      "41      92390       s92390@oslomet.no        2        35.0\n",
      "42      83390   22  s83390@oslomet.no        7        88.0\n",
      "43      32946   31  s32946@oslomet.no       10        24.0\n",
      "44      44023   31  s44023@oslomet.no        6        83.0\n",
      "45      62039   23  s62039@oslomet.no        4        46.0\n",
      "46      42989   27  s42989@oslomet.no        0        80.0\n",
      "47      85370   29  s85370@oslomet.no        2        77.0\n",
      "48      63135   26  s63135@oslomet.no        9        39.0\n",
      "49      28895   19  s28895@oslomet.no       10        68.0\n"
     ]
    }
   ],
   "source": [
    "#import cvs fil som er hentet fra OsloMet Canvas siden\n",
    "df = pd.read_csv('https://raw.githubusercontent.com/umaimehm/Intro_to_AI_2021/main/Lab1/stud.csv')\n",
    "df.info()\n",
    "print(df)"
   ]
  },
  {
   "cell_type": "code",
   "execution_count": null,
   "metadata": {},
   "outputs": [],
   "source": [
    "#omgjøring av datatyper\n",
    "df['Age'] = pd.to_numeric(df['Age'], errors='coerce', downcast='integer')\n",
    "df['hrsStudy'] = pd.to_numeric(df['hrsStudy'], errors='coerce', downcast='integer')\n",
    "df['Age'] = df['Age'].astype('Int32')\n",
    "df['hrsStudy'] = df['hrsStudy'].astype('Int32')\n",
    "\n",
    "df.info()"
   ]
  }
 ],
 "metadata": {
  "kernelspec": {
   "display_name": "dave3625",
   "language": "python",
   "name": "python3"
  },
  "language_info": {
   "codemirror_mode": {
    "name": "ipython",
    "version": 3
   },
   "file_extension": ".py",
   "mimetype": "text/x-python",
   "name": "python",
   "nbconvert_exporter": "python",
   "pygments_lexer": "ipython3",
   "version": "3.8.17"
  },
  "orig_nbformat": 4
 },
 "nbformat": 4,
 "nbformat_minor": 2
}
